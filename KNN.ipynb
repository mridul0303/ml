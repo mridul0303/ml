{
 "cells": [
  {
   "cell_type": "markdown",
   "id": "7c91172f",
   "metadata": {},
   "source": [
    "- checks value k no. of data points near the point\n",
    "- k should never be very high and not very low"
   ]
  }
 ],
 "metadata": {
  "kernelspec": {
   "display_name": "Python 3",
   "language": "python",
   "name": "python3"
  },
  "language_info": {
   "codemirror_mode": {
    "name": "ipython",
    "version": 3
   },
   "file_extension": ".py",
   "mimetype": "text/x-python",
   "name": "python",
   "nbconvert_exporter": "python",
   "pygments_lexer": "ipython3",
   "version": "3.8.8"
  }
 },
 "nbformat": 4,
 "nbformat_minor": 5
}
