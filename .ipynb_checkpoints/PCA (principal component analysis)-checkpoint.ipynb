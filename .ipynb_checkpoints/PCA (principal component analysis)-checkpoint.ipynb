{
 "cells": [
  {
   "cell_type": "markdown",
   "id": "c842888a",
   "metadata": {},
   "source": [
    "# PCA\n",
    "- used to reduce dimensions\n",
    "- faster training and inference\n",
    "- data visulaization becomes easier|\n",
    "- is a process of figurimg out important features/ principal components that has an impact on target feature/variable"
   ]
  },
  {
   "cell_type": "markdown",
   "id": "30892692",
   "metadata": {},
   "source": [
    "# steps before apllying PCA\n",
    "- feature scaling before PCA\n",
    "- accuracy might drop"
   ]
  }
 ],
 "metadata": {
  "kernelspec": {
   "display_name": "Python 3",
   "language": "python",
   "name": "python3"
  },
  "language_info": {
   "codemirror_mode": {
    "name": "ipython",
    "version": 3
   },
   "file_extension": ".py",
   "mimetype": "text/x-python",
   "name": "python",
   "nbconvert_exporter": "python",
   "pygments_lexer": "ipython3",
   "version": "3.8.8"
  }
 },
 "nbformat": 4,
 "nbformat_minor": 5
}
