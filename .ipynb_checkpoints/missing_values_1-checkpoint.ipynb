{
 "cells": [
  {
   "cell_type": "code",
   "execution_count": 1,
   "id": "d75ec0c1",
   "metadata": {},
   "outputs": [],
   "source": [
    "dict1={\"Name\": [\"mridul\",\"ricky\",\"sonal\",\"mohit\",],\n",
    "       \"age\":[26,20,None,25],\n",
    "       \"height\":[5.8,5.9,5.5,None],\n",
    "       \"places\":[None,\"ropar\",\"kota\",\"kota\"]\n",
    "      }"
   ]
  },
  {
   "cell_type": "code",
   "execution_count": 2,
   "id": "c6ad6e47",
   "metadata": {},
   "outputs": [
    {
     "data": {
      "text/plain": [
       "Name      0\n",
       "age       1\n",
       "height    1\n",
       "places    1\n",
       "dtype: int64"
      ]
     },
     "execution_count": 2,
     "metadata": {},
     "output_type": "execute_result"
    }
   ],
   "source": [
    "import pandas as pd\n",
    "df=pd.DataFrame(dict1)\n",
    "df.isnull().sum()#calculates no. of missing values"
   ]
  },
  {
   "cell_type": "code",
   "execution_count": 3,
   "id": "3713f5e2",
   "metadata": {},
   "outputs": [
    {
     "name": "stdout",
     "output_type": "stream",
     "text": [
      "     Name        age  height places\n",
      "0  mridul  26.000000     5.8   None\n",
      "1   ricky  20.000000     5.9  ropar\n",
      "2   sonal  23.666667     5.5   kota\n",
      "3   mohit  25.000000     NaN   kota\n"
     ]
    }
   ],
   "source": [
    "\n",
    "df[\"age\"]=df[\"age\"].fillna(df[\"age\"].mean())\n",
    "#we could use .dropna to delete entire row\n",
    "print(df)"
   ]
  },
  {
   "cell_type": "code",
   "execution_count": 5,
   "id": "65165b39",
   "metadata": {
    "scrolled": true
   },
   "outputs": [
    {
     "name": "stdout",
     "output_type": "stream",
     "text": [
      "     Name        age    height places\n",
      "0  mridul  26.000000  5.800000   None\n",
      "1   ricky  20.000000  5.900000  ropar\n",
      "2   sonal  23.666667  5.500000   kota\n",
      "3   mohit  25.000000  5.733333   kota\n"
     ]
    }
   ],
   "source": [
    "\n",
    "df[\"height\"]=df[\"height\"].fillna(df[\"height\"].mean())\n",
    "print(df)"
   ]
  },
  {
   "cell_type": "code",
   "execution_count": 6,
   "id": "a1c9623e",
   "metadata": {},
   "outputs": [
    {
     "data": {
      "text/html": [
       "<div>\n",
       "<style scoped>\n",
       "    .dataframe tbody tr th:only-of-type {\n",
       "        vertical-align: middle;\n",
       "    }\n",
       "\n",
       "    .dataframe tbody tr th {\n",
       "        vertical-align: top;\n",
       "    }\n",
       "\n",
       "    .dataframe thead th {\n",
       "        text-align: right;\n",
       "    }\n",
       "</style>\n",
       "<table border=\"1\" class=\"dataframe\">\n",
       "  <thead>\n",
       "    <tr style=\"text-align: right;\">\n",
       "      <th></th>\n",
       "      <th>Name</th>\n",
       "      <th>age</th>\n",
       "      <th>height</th>\n",
       "      <th>places</th>\n",
       "    </tr>\n",
       "  </thead>\n",
       "  <tbody>\n",
       "    <tr>\n",
       "      <th>0</th>\n",
       "      <td>mridul</td>\n",
       "      <td>26.000000</td>\n",
       "      <td>5.800000</td>\n",
       "      <td>kota</td>\n",
       "    </tr>\n",
       "    <tr>\n",
       "      <th>1</th>\n",
       "      <td>ricky</td>\n",
       "      <td>20.000000</td>\n",
       "      <td>5.900000</td>\n",
       "      <td>ropar</td>\n",
       "    </tr>\n",
       "    <tr>\n",
       "      <th>2</th>\n",
       "      <td>sonal</td>\n",
       "      <td>23.666667</td>\n",
       "      <td>5.500000</td>\n",
       "      <td>kota</td>\n",
       "    </tr>\n",
       "    <tr>\n",
       "      <th>3</th>\n",
       "      <td>mohit</td>\n",
       "      <td>25.000000</td>\n",
       "      <td>5.733333</td>\n",
       "      <td>kota</td>\n",
       "    </tr>\n",
       "  </tbody>\n",
       "</table>\n",
       "</div>"
      ],
      "text/plain": [
       "     Name        age    height places\n",
       "0  mridul  26.000000  5.800000   kota\n",
       "1   ricky  20.000000  5.900000  ropar\n",
       "2   sonal  23.666667  5.500000   kota\n",
       "3   mohit  25.000000  5.733333   kota"
      ]
     },
     "execution_count": 6,
     "metadata": {},
     "output_type": "execute_result"
    }
   ],
   "source": [
    "df[\"places\"]=df[\"places\"].fillna(df[\"places\"].value_counts().index[0])\n",
    "df#index=0 value counts most values in column"
   ]
  },
  {
   "cell_type": "code",
   "execution_count": 7,
   "id": "30402714",
   "metadata": {
    "scrolled": false
   },
   "outputs": [
    {
     "ename": "NameError",
     "evalue": "name 'np' is not defined",
     "output_type": "error",
     "traceback": [
      "\u001b[1;31m---------------------------------------------------------------------------\u001b[0m",
      "\u001b[1;31mNameError\u001b[0m                                 Traceback (most recent call last)",
      "\u001b[1;32m<ipython-input-7-6c8ee707bfc1>\u001b[0m in \u001b[0;36m<module>\u001b[1;34m\u001b[0m\n\u001b[0;32m      1\u001b[0m \u001b[0mtest\u001b[0m \u001b[1;33m=\u001b[0m \u001b[0mpd\u001b[0m\u001b[1;33m.\u001b[0m\u001b[0mSeries\u001b[0m\u001b[1;33m(\u001b[0m\u001b[0mrange\u001b[0m\u001b[1;33m(\u001b[0m\u001b[1;36m6\u001b[0m\u001b[1;33m)\u001b[0m\u001b[1;33m)\u001b[0m\u001b[1;33m\u001b[0m\u001b[1;33m\u001b[0m\u001b[0m\n\u001b[1;32m----> 2\u001b[1;33m \u001b[0mtest\u001b[0m\u001b[1;33m.\u001b[0m\u001b[0mloc\u001b[0m\u001b[1;33m[\u001b[0m\u001b[1;36m2\u001b[0m\u001b[1;33m:\u001b[0m\u001b[1;36m4\u001b[0m\u001b[1;33m]\u001b[0m\u001b[1;33m=\u001b[0m\u001b[0mnp\u001b[0m\u001b[1;33m.\u001b[0m\u001b[0mnan\u001b[0m\u001b[1;33m\u001b[0m\u001b[1;33m\u001b[0m\u001b[0m\n\u001b[0m\u001b[0;32m      3\u001b[0m \u001b[0mtest\u001b[0m\u001b[1;33m\u001b[0m\u001b[1;33m\u001b[0m\u001b[0m\n",
      "\u001b[1;31mNameError\u001b[0m: name 'np' is not defined"
     ]
    }
   ],
   "source": [
    "test = pd.Series(range(6))\n",
    "test.loc[2:4]=np.nan\n",
    "test"
   ]
  },
  {
   "cell_type": "code",
   "execution_count": null,
   "id": "46df718e",
   "metadata": {
    "scrolled": true
   },
   "outputs": [],
   "source": [
    "test.fillna(method='ffill')#orbfill\n"
   ]
  },
  {
   "cell_type": "code",
   "execution_count": null,
   "id": "92616e65",
   "metadata": {
    "scrolled": false
   },
   "outputs": [],
   "source": [
    "test.interpolate()"
   ]
  },
  {
   "cell_type": "code",
   "execution_count": null,
   "id": "02472285",
   "metadata": {},
   "outputs": [],
   "source": [
    "X = pd.DataFrame({'Shape':['square', 'square', 'oval', 'circle', np.nan]})\n",
    "X"
   ]
  },
  {
   "cell_type": "code",
   "execution_count": null,
   "id": "4a3b2f67",
   "metadata": {},
   "outputs": [],
   "source": [
    "from sklearn.impute import SimpleImputer\n",
    "imputer = SimpleImputer(strategy='most_frequent')\n",
    "x=imputer.fit_transform(X)\n",
    "x"
   ]
  },
  {
   "cell_type": "code",
   "execution_count": null,
   "id": "6e577e83",
   "metadata": {},
   "outputs": [],
   "source": [
    "df=pd.DataFrame(x)\n",
    "df"
   ]
  },
  {
   "cell_type": "code",
   "execution_count": null,
   "id": "3d6ccdcd",
   "metadata": {},
   "outputs": [],
   "source": [
    "imputer=SimpleImputer(strategy=\"constant\",fill_value='missing')\n",
    "imputer.fit_transform(X)"
   ]
  },
  {
   "cell_type": "code",
   "execution_count": null,
   "id": "535e9d16",
   "metadata": {},
   "outputs": [],
   "source": [
    "import pandas as pd\n",
    "df = pd.read_csv('http://bit.ly/kaggletrain', nrows=6)\n",
    "cols = ['SibSp', 'Fare', 'Age']\n",
    "print(cols)\n",
    "X = df[cols]\n",
    "X\n"
   ]
  },
  {
   "cell_type": "code",
   "execution_count": null,
   "id": "b0571437",
   "metadata": {},
   "outputs": [],
   "source": [
    "from sklearn.experimental import enable_iterative_imputer\n",
    "from sklearn.impute import IterativeImputer\n",
    "impute_it = IterativeImputer()\n",
    "impute_it.fit_transform(X)\n",
    "#uses age as label adn others as features to predict missing age"
   ]
  },
  {
   "cell_type": "code",
   "execution_count": null,
   "id": "5e07afa3",
   "metadata": {},
   "outputs": [],
   "source": [
    "from sklearn.impute import KNNImputer\n",
    "impute_knn = KNNImputer(n_neighbors=2)\n",
    "impute_knn.fit_transform(X)\n",
    "#here neighbour size 2\n",
    "#so uses 2 nearest values of other features to calculate mean for the age\n",
    "#here 3rd and 5th row used"
   ]
  },
  {
   "cell_type": "code",
   "execution_count": null,
   "id": "d3888962",
   "metadata": {},
   "outputs": [],
   "source": [
    "import pandas as pd\n",
    "import numpy as np\n",
    "X = pd.DataFrame({'Age':[20, 30, 10, np.nan, 10]})\n",
    "X\n"
   ]
  },
  {
   "cell_type": "code",
   "execution_count": null,
   "id": "370751ef",
   "metadata": {},
   "outputs": [],
   "source": [
    "from sklearn.impute import SimpleImputer\n",
    "\n",
    "imputer=SimpleImputer()\n",
    "imputer.fit_transform(X)"
   ]
  },
  {
   "cell_type": "code",
   "execution_count": null,
   "id": "0c375208",
   "metadata": {},
   "outputs": [],
   "source": [
    "imputer=SimpleImputer(add_indicator=True)\n",
    "imputer.fit_transform(X)# new features representing missing values"
   ]
  },
  {
   "cell_type": "code",
   "execution_count": null,
   "id": "af6f71c9",
   "metadata": {},
   "outputs": [],
   "source": []
  },
  {
   "cell_type": "code",
   "execution_count": null,
   "id": "f4fe562f",
   "metadata": {},
   "outputs": [],
   "source": []
  }
 ],
 "metadata": {
  "kernelspec": {
   "display_name": "Python 3",
   "language": "python",
   "name": "python3"
  },
  "language_info": {
   "codemirror_mode": {
    "name": "ipython",
    "version": 3
   },
   "file_extension": ".py",
   "mimetype": "text/x-python",
   "name": "python",
   "nbconvert_exporter": "python",
   "pygments_lexer": "ipython3",
   "version": "3.8.8"
  }
 },
 "nbformat": 4,
 "nbformat_minor": 5
}
