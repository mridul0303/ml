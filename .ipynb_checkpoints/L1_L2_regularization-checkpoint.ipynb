{
 "cells": [
  {
   "cell_type": "markdown",
   "id": "eef6ea0d",
   "metadata": {},
   "source": [
    "# Overfitting (aka variance):\n",
    "- A model is said to be overfit if it is over trained on the data such that, it even learns the noise from it. An overfit model learns each and every example so perfectly that it misclassifies an unseen/new example. For a model that’s overfit, we have a perfect/close to perfect training set score while a poor test/validation score.\n",
    "\n",
    "- Reasons behind overfitting:\n",
    " 1. Using a complex model for a simple problem which picks up the noise from the data. Example: Fitting a neural network to     the Iris dataset.\n",
    " 2. Small datasets, as the training set may not be a right representation of the universe.\n"
   ]
  },
  {
   "cell_type": "markdown",
   "id": "bd0ef853",
   "metadata": {},
   "source": [
    "# Underfitting (aka bias):\n",
    "- A model is said to be underfit if it is unable to learn the patterns in the data properly. An underfit model doesn’t fully learn each and every example in the dataset. In such cases, we see a low score on both the training set and test/validation set.\n",
    "\n",
    "- Reasons behind underfitting:\n",
    " 1. Using a simple model for a complex problem which doesn’t learn all the patterns in the data. Example: Using a logistic     regression for image classification\n",
    " 2. The underlying data has no inherent pattern. Example, trying to predict a student’s marks with his father’s weight.# "
   ]
  },
  {
   "cell_type": "markdown",
   "id": "0d9c9711",
   "metadata": {},
   "source": [
    "# L1 and L2 Regularization\n",
    "- Used for overfitting model\n",
    "- l1 = added absolute value of coefficents to mse of model\n",
    "- l2 = added mse value of coefficents to mse of model"
   ]
  },
  {
   "cell_type": "code",
   "execution_count": null,
   "id": "ad9bef50",
   "metadata": {},
   "outputs": [],
   "source": []
  }
 ],
 "metadata": {
  "kernelspec": {
   "display_name": "Python 3",
   "language": "python",
   "name": "python3"
  },
  "language_info": {
   "codemirror_mode": {
    "name": "ipython",
    "version": 3
   },
   "file_extension": ".py",
   "mimetype": "text/x-python",
   "name": "python",
   "nbconvert_exporter": "python",
   "pygments_lexer": "ipython3",
   "version": "3.8.8"
  }
 },
 "nbformat": 4,
 "nbformat_minor": 5
}
