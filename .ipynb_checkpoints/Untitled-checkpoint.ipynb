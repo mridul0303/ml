{
 "cells": [
  {
   "cell_type": "markdown",
   "id": "b131dc19",
   "metadata": {},
   "source": [
    "# bagging\n",
    "- resampling with replacement= getting subsets with same probability for next item even if the the item ahs been selected     before\n",
    "- resampling with replacement not only rows but also columns"
   ]
  },
  {
   "cell_type": "code",
   "execution_count": null,
   "id": "aa64c937",
   "metadata": {},
   "outputs": [],
   "source": []
  }
 ],
 "metadata": {
  "kernelspec": {
   "display_name": "Python 3",
   "language": "python",
   "name": "python3"
  },
  "language_info": {
   "codemirror_mode": {
    "name": "ipython",
    "version": 3
   },
   "file_extension": ".py",
   "mimetype": "text/x-python",
   "name": "python",
   "nbconvert_exporter": "python",
   "pygments_lexer": "ipython3",
   "version": "3.8.8"
  }
 },
 "nbformat": 4,
 "nbformat_minor": 5
}
